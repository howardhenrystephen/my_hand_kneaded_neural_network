{
 "cells": [
  {
   "cell_type": "markdown",
   "metadata": {},
   "source": [
    "# 手搓神经网络\n",
    "## 代码框架"
   ]
  },
  {
   "cell_type": "markdown",
   "metadata": {},
   "source": [
    "```python\n",
    "class NeuralNetwork:\n",
    "    \"\"\"neural network class definition\"\"\"\n",
    "    def __init__(self):\n",
    "        # initialise the neural network\n",
    "        pass\n",
    "\n",
    "    def train(self):\n",
    "        # train the neural network\n",
    "        pass\n",
    "\n",
    "    def query(self):\n",
    "        # query the neural network\n",
    "        pass\n",
    "```"
   ]
  },
  {
   "cell_type": "markdown",
   "metadata": {},
   "source": [
    "## 代码"
   ]
  },
  {
   "cell_type": "code",
   "execution_count": 3,
   "metadata": {},
   "outputs": [],
   "source": [
    "import numpy\n",
    "import scipy.special\n",
    "\n",
    "class NeuralNetWork:\n",
    "    def __init__(self, input_nodes, hidden_nodes, output_nodes, learning_rate):\n",
    "        \"\"\"\n",
    "        Args:\n",
    "            inputnodes: number of input layer nodes\n",
    "            hiddennodes: number of hidden layer nodes\n",
    "            outputnodes: number of output layer nodes\n",
    "            learningrate: the value of the learning rate\n",
    "        \"\"\"\n",
    "        # set number of nodes in each input, hidden, output layer\n",
    "        self.input_nodes = input_nodes\n",
    "        self.hidden_nodes = hidden_nodes\n",
    "        self.output_nodes = output_nodes\n",
    "\n",
    "        # learning rate\n",
    "        self.learning_rate = learning_rate\n",
    "        \n",
    "        # link weight matrices, wih and who\n",
    "        # weight inside the arrays are w_i_j, where link is from node i to node j in the next layer\n",
    "        # w11 w21\n",
    "        # w12 w22 etc\n",
    "        self.weight_input_hidden = (numpy.random.rand(self.hidden_nodes, self.input_nodes) - 0.5)\n",
    "        self.weight_hidden_output = (numpy.random.rand(self.output_nodes, self.hidden_nodes) - 0.5)\n",
    "\n",
    "    def train(self):\n",
    "        # train the neural network\n",
    "        pass\n",
    "\n",
    "    def query(self):\n",
    "        # query the neural network\n",
    "        pass"
   ]
  },
  {
   "cell_type": "code",
   "execution_count": null,
   "metadata": {},
   "outputs": [],
   "source": [
    "if __name__ == \"__main__\":\n",
    "    # number of input, hidden and output nodes\n",
    "    input_nodes = 3\n",
    "    hidden_nodes = 3\n",
    "    output_nodes = 3\n",
    "\n",
    "    # value of learning rate \n",
    "    learning_rate = 0.5\n",
    "\n",
    "    # create instance of neural network\n",
    "    nerual_network = NeuralNetWork(input_nodes, hidden_nodes, output_nodes, learning_rate) "
   ]
  }
 ],
 "metadata": {
  "kernelspec": {
   "display_name": "myenv(ML)",
   "language": "python",
   "name": "python3"
  },
  "language_info": {
   "codemirror_mode": {
    "name": "ipython",
    "version": 3
   },
   "file_extension": ".py",
   "mimetype": "text/x-python",
   "name": "python",
   "nbconvert_exporter": "python",
   "pygments_lexer": "ipython3",
   "version": "3.12.8"
  }
 },
 "nbformat": 4,
 "nbformat_minor": 2
}
