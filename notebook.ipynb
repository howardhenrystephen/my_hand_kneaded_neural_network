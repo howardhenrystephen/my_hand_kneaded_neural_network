{
 "cells": [
  {
   "cell_type": "markdown",
   "metadata": {},
   "source": [
    "# 手搓神经网络\n",
    "## 代码框架"
   ]
  },
  {
   "cell_type": "markdown",
   "metadata": {},
   "source": [
    "```python\n",
    "class NeuralNetwork:\n",
    "    \"\"\"neural network class definition\"\"\"\n",
    "    def __init__(self):\n",
    "        # initialise the neural network\n",
    "        pass\n",
    "\n",
    "    def train(self):\n",
    "        # train the neural network\n",
    "        pass\n",
    "\n",
    "    def query(self):\n",
    "        # query the neural network\n",
    "        pass\n",
    "```"
   ]
  },
  {
   "cell_type": "markdown",
   "metadata": {},
   "source": [
    "## 神经网络构建、训练过程\n",
    "> 三层神经网络：输入层-隐藏层-输出层\n",
    "1. 通过训练样本得到训练输出结果\n",
    "    1. 计算`输入层-隐藏层`的输出，并使用`sigmoid函数`计算最后结果\n",
    "    2. 计算`隐藏层-输出层`的输出，并使用`sigmoid函数`计算最后结果\n",
    "2. 通过训练输出结果得到误差，反向传播误差"
   ]
  },
  {
   "cell_type": "markdown",
   "metadata": {},
   "source": [
    "## 代码"
   ]
  },
  {
   "cell_type": "code",
   "execution_count": 1,
   "metadata": {},
   "outputs": [],
   "source": [
    "import numpy\n",
    "# scipy.special for the sigmoid function expit()\n",
    "import scipy.special\n",
    "\n",
    "class NeuralNetWork:\n",
    "    def __init__(self, input_nodes, hidden_nodes, output_nodes, learning_rate):\n",
    "        \"\"\"\n",
    "        Initial Function!\n",
    "        Args:\n",
    "            inputnodes: number of input layer nodes\n",
    "            hiddennodes: number of hidden layer nodes\n",
    "            outputnodes: number of output layer nodes\n",
    "            learningrate: the value of the learning rate\n",
    "        \"\"\"\n",
    "        # set number of nodes in each input, hidden, output layer\n",
    "        self.input_nodes = input_nodes\n",
    "        self.hidden_nodes = hidden_nodes\n",
    "        self.output_nodes = output_nodes\n",
    "\n",
    "        # learning rate\n",
    "        self.learning_rate = learning_rate\n",
    "        \n",
    "        # link weight matrices, wih and who\n",
    "        # weight inside the arrays are w_i_j, where link is from node i to node j in the next layer\n",
    "        # w11 w21\n",
    "        # w12 w22 etc\n",
    "        self.weight_input_hidden = (numpy.random.rand(self.hidden_nodes, self.input_nodes) - 0.5)\n",
    "        self.weight_hidden_output = (numpy.random.rand(self.output_nodes, self.hidden_nodes) - 0.5)\n",
    "\n",
    "        # activation function is the sigmoid function\n",
    "        self.activation_function = lambda x: scipy.special.expit(x)\n",
    "\n",
    "    def train(self):\n",
    "        # train the neural network\n",
    "        pass\n",
    "\n",
    "    def query(self, inputs_list) -> numpy.ndarray:\n",
    "        \"\"\"\n",
    "        query the neural network\n",
    "\n",
    "        \"\"\"\n",
    "        # convert inputs list to 2d array\n",
    "        inputs = numpy.array(inputs_list, ndmin=2).T\n",
    "\n",
    "        # calculate signals into hidden layer\n",
    "        hidden_inputs = numpy.dot(self.weight_input_hidden, inputs) \n",
    "        # calculate the signals emerging from hidden layer\n",
    "        hidden_outputs = self.activation_function(hidden_inputs)\n",
    "\n",
    "        # calculate signals into final output layer\n",
    "        final_inputs = numpy.dot(self.weight_hidden_output, hidden_outputs) \n",
    "        # calculate the signals emerging from final output layer\n",
    "        final_outputs = self.activation_function(final_inputs)\n",
    "\n",
    "        return final_outputs\n"
   ]
  },
  {
   "cell_type": "markdown",
   "metadata": {},
   "source": [
    "---\n",
    "***较复杂的权重***\n",
    "```python\n",
    "# numpy.random.normal()是用正态分布方式采样\n",
    "# 参数（从左到右）：期望、方差、numpy数组大小（行、列）\n",
    "self.weight_input_hidden = numpy.random.normal(0.0, pow(self.hidden_node, -0.5), (self.hidden_nodes, self.input_nodes))\n",
    "self.weight_hidden_output = numpy.random.normal(0.0, pow(self.output_nodes, -0.5), (self.output_nodes, self.hidden_nodes))\n",
    "```\n",
    "---"
   ]
  },
  {
   "cell_type": "code",
   "execution_count": 2,
   "metadata": {},
   "outputs": [],
   "source": [
    "if __name__ == \"__main__\":\n",
    "    # number of input, hidden and output nodes\n",
    "    input_nodes = 3\n",
    "    hidden_nodes = 3\n",
    "    output_nodes = 3\n",
    "\n",
    "    # value of learning rate \n",
    "    learning_rate = 0.5\n",
    "\n",
    "    # create instance of neural network\n",
    "    nerual_network = NeuralNetWork(input_nodes, hidden_nodes, output_nodes, learning_rate) "
   ]
  }
 ],
 "metadata": {
  "kernelspec": {
   "display_name": "myenv(ML)",
   "language": "python",
   "name": "python3"
  },
  "language_info": {
   "codemirror_mode": {
    "name": "ipython",
    "version": 3
   },
   "file_extension": ".py",
   "mimetype": "text/x-python",
   "name": "python",
   "nbconvert_exporter": "python",
   "pygments_lexer": "ipython3",
   "version": "3.12.8"
  }
 },
 "nbformat": 4,
 "nbformat_minor": 2
}
